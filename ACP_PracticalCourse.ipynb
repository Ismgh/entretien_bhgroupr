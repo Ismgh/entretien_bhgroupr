{
  "nbformat": 4,
  "nbformat_minor": 0,
  "metadata": {
    "celltoolbar": "Raw Cell Format",
    "colab": {
      "name": "ACP_PracticalCourse.ipynb",
      "provenance": [],
      "collapsed_sections": [],
      "include_colab_link": true
    },
    "kernelspec": {
      "display_name": "Python 3",
      "language": "python",
      "name": "python3"
    },
    "language_info": {
      "codemirror_mode": {
        "name": "ipython",
        "version": 3
      },
      "file_extension": ".py",
      "mimetype": "text/x-python",
      "name": "python",
      "nbconvert_exporter": "python",
      "pygments_lexer": "ipython3",
      "version": "3.6.5"
    }
  },
  "cells": [
    {
      "cell_type": "markdown",
      "metadata": {
        "id": "view-in-github",
        "colab_type": "text"
      },
      "source": [
        "<a href=\"https://colab.research.google.com/github/Ismgh/entretien_bhgroupr/blob/master/ACP_PracticalCourse.ipynb\" target=\"_parent\"><img src=\"https://colab.research.google.com/assets/colab-badge.svg\" alt=\"Open In Colab\"/></a>"
      ]
    },
    {
      "cell_type": "markdown",
      "metadata": {
        "id": "u8vwRIunRWa_"
      },
      "source": [
        "# # Principal Component Analysis Practical Course\n",
        "For this practical course we will use Principal Component Analysis (PCA) to visualize the patients described in the Chronic_Kidney_Disease dadaset.\n",
        "\n",
        "It is **important to note that we will NOT use the labels for the PCA.** \n",
        "\n",
        "___\n",
        "\n",
        "## The Data\n",
        "\n",
        "We will use a data frame with 400 instances on the following 24 variables.\n",
        "* Attribute Information:\n",
        "We use 24 ( 11 numeric, 13 nominal) \n",
        "\n",
        "1.Age(numerical) \n",
        "age in years \n",
        "\n",
        "2.Blood Pressure(numerical) \n",
        "bp in mm/Hg \n",
        "\n",
        "3.Specific Gravity(nominal??) \n",
        "sg - (1.005,1.010,1.015,1.020,1.025) \n",
        "\n",
        "4.Albumin(nominal??) \n",
        "al - (0,1,2,3,4,5) \n",
        "\n",
        "5.Sugar(nominal??) \n",
        "su - (0,1,2,3,4,5) \n",
        "\n",
        "6.Red Blood Cells(nominal) \n",
        "rbc - (normal,abnormal) \n",
        "\n",
        "7.Pus Cell (nominal) \n",
        "pc - (normal,abnormal) \n",
        "\n",
        "8.Pus Cell clumps(nominal) \n",
        "pcc - (present,notpresent) \n",
        "\n",
        "9.Bacteria(nominal) \n",
        "ba - (present,notpresent) \n",
        "\n",
        "10.Blood Glucose Random(numerical)\t\n",
        "bgr in mgs/dl \n",
        "\n",
        "11.Blood Urea(numerical)\t\n",
        "bu in mgs/dl\n",
        "\n",
        "12.Serum Creatinine(numerical)\t\n",
        "sc in mgs/dl\n",
        "\n",
        "13.Sodium(numerical) \n",
        "sod in mEq/L \n",
        "\n",
        "14.Potassium(numerical)\t\n",
        "pot in mEq/L \n",
        "\n",
        "15.Hemoglobin(numerical) \n",
        "hemo in gms \n",
        "\n",
        "16.Packed Cell Volume(numerical) \n",
        "\n",
        "17.White Blood Cell Count(numerical) \n",
        "wc in cells/cumm \n",
        "\n",
        "18.Red Blood Cell Count(numerical)\t\n",
        "rc in millions/cmm \n",
        "\n",
        "19.Hypertension(nominal)\t\n",
        "htn - (yes,no) \n",
        "\n",
        "20.Diabetes Mellitus(nominal)\t\n",
        "dm - (yes,no) \n",
        "\n",
        "21.Coronary Artery Disease(nominal) \n",
        "cad - (yes,no) \n",
        "\n",
        "22.Appetite(nominal)\t\n",
        "appet - (good,poor) \n",
        "\n",
        "23.Pedal Edema(nominal) \n",
        "pe - (yes,no)\t\n",
        "\n",
        "24.Anemia(nominal) \n",
        "ane - (yes,no) \n",
        "\n"
      ]
    },
    {
      "cell_type": "markdown",
      "metadata": {
        "id": "OmlK7xfGe0yw"
      },
      "source": [
        "## Mount Drive\n",
        "\n",
        "**For google colab users only**"
      ]
    },
    {
      "cell_type": "code",
      "metadata": {
        "id": "9CFAM84Me9dB"
      },
      "source": [
        "import os\n",
        "from google.colab import drive\n",
        "\n",
        "drive.mount('/content/drive')\n",
        "\n",
        "# Change to the directory to where your files are\n",
        "os.chdir('drive/My Drive/')  "
      ],
      "execution_count": null,
      "outputs": []
    },
    {
      "cell_type": "markdown",
      "metadata": {
        "id": "LOkk8MDZRWbA"
      },
      "source": [
        "## Import Libraries\n",
        "\n",
        "** Import the libraries you usually use for data analysis.**"
      ]
    },
    {
      "cell_type": "code",
      "metadata": {
        "id": "zMzYC9t-egB5"
      },
      "source": [
        "import seaborn as sns\n",
        "import matplotlib.pyplot as plt\n",
        "import pandas as pd\n",
        "import numpy as np\n",
        "%matplotlib inline"
      ],
      "execution_count": null,
      "outputs": []
    },
    {
      "cell_type": "markdown",
      "metadata": {
        "id": "NbbEEnkpRWbE"
      },
      "source": [
        "## Get the Data"
      ]
    },
    {
      "cell_type": "markdown",
      "metadata": {
        "id": "TmHQPPWoRWbE"
      },
      "source": [
        "** Read in the \"chronic_kidney_disease\" file using read_csv.**"
      ]
    },
    {
      "cell_type": "code",
      "metadata": {
        "id": "EQjK_f6OegCP"
      },
      "source": [
        "df = pd.read_csv('chronic_kidney_disease.csv', header=0)"
      ],
      "execution_count": null,
      "outputs": []
    },
    {
      "cell_type": "markdown",
      "metadata": {
        "id": "6e6t-a6jRWbH"
      },
      "source": [
        "**Check the head of the data**"
      ]
    },
    {
      "cell_type": "code",
      "metadata": {
        "id": "KteUvFQdRWbI"
      },
      "source": [
        "df.head()"
      ],
      "execution_count": null,
      "outputs": []
    },
    {
      "cell_type": "markdown",
      "metadata": {
        "id": "Ty1ulxA3RWbM"
      },
      "source": [
        "** Check the info() and describe() methods on the data.**"
      ]
    },
    {
      "cell_type": "code",
      "metadata": {
        "id": "UONs9szkRWbN"
      },
      "source": [
        "df.info()"
      ],
      "execution_count": null,
      "outputs": []
    },
    {
      "cell_type": "code",
      "metadata": {
        "id": "ezsdOY4iRWbP"
      },
      "source": [
        "df.describe()"
      ],
      "execution_count": null,
      "outputs": []
    },
    {
      "cell_type": "markdown",
      "metadata": {
        "id": "-p882rolegCv"
      },
      "source": [
        "# Data Preparation"
      ]
    },
    {
      "cell_type": "code",
      "metadata": {
        "id": "9YEElFsvegCy"
      },
      "source": [
        "# Separate the labels from the variables\n",
        "data = df.drop(\"class\", axis =1)\n",
        "labels = df[\"class\"]"
      ],
      "execution_count": null,
      "outputs": []
    },
    {
      "cell_type": "code",
      "metadata": {
        "id": "NO-CSTQnegC4"
      },
      "source": [
        "# Replace missing values with a median (or means , zeros, etc.)\n",
        "from sklearn.impute import SimpleImputer\n",
        "imputer = SimpleImputer(strategy=\"median\")\n",
        "#Create a copy without text attribute\n",
        "#Nominal attributes:\"rbc\",\"pc\",\"pcc\",\"ba\",\"htn\",\"dm\", \"cad\", \"appet\", \"pe\", \"ane\"\n",
        "data_num = data[[\"age\", \"bp\",\"sg\", \"al\", \"su\", \"bgr\", \"bu\", \"sc\", \"sod\", \"pot\", \"hemo\",\"pcv\", \"wbcc\", \"rbcc\"]]\n",
        "  "
      ],
      "execution_count": null,
      "outputs": []
    },
    {
      "cell_type": "code",
      "metadata": {
        "id": "LYdI6SGYegC-",
        "scrolled": true
      },
      "source": [
        "data_num.describe()"
      ],
      "execution_count": null,
      "outputs": []
    },
    {
      "cell_type": "code",
      "metadata": {
        "id": "6QPz5YyfegDL"
      },
      "source": [
        "#fit and transform the dataset by replacing the missing values by the medians\n",
        "X = imputer.fit_transform(data_num)\n",
        "data_num_tr = pd.DataFrame(X, columns = data_num.columns)"
      ],
      "execution_count": null,
      "outputs": []
    },
    {
      "cell_type": "code",
      "metadata": {
        "id": "-ogTnrWcegDQ"
      },
      "source": [
        "data_num_tr.describe()"
      ],
      "execution_count": null,
      "outputs": []
    },
    {
      "cell_type": "markdown",
      "metadata": {
        "id": "fdxhk8mSegDX"
      },
      "source": [
        "# Handling categorical attributes"
      ]
    },
    {
      "cell_type": "code",
      "metadata": {
        "id": "z8WpHaaxegDZ"
      },
      "source": [
        "data_cat = data[[\"rbc\",\"pc\",\"pcc\",\"ba\",\"htn\",\"dm\", \"cad\", \"appet\", \"pe\", \"ane\"]]\n",
        "\n",
        "#Use the pandas functions : factorize(), Imputer with the \"most_frequent\" strategy to preprocess and\n",
        "#transform the categorical attributes\n",
        "\n",
        "data_cat_encoded = []\n",
        "data_categories = []\n",
        "for x in data_cat:\n",
        "    data_cat_encod, data_categ = pd.factorize(data_cat[x])\n",
        "    data_cat_encoded.append(data_cat_encod)\n",
        "    data_categories.append(data_categ)\n",
        "print(data_cat_encoded)\n",
        "print(data_categories)\n"
      ],
      "execution_count": null,
      "outputs": []
    },
    {
      "cell_type": "code",
      "metadata": {
        "id": "agHf0o88egDf"
      },
      "source": [
        "#replace missing categorical values by the most frequent ones\n",
        "data_cat_encoded = pd.DataFrame(np.transpose(data_cat_encoded))\n",
        "data_cat_encoded.info()\n",
        "imputer = Imputer(missing_values= -1, strategy=\"most_frequent\")\n",
        "#fit the imputer instance to the data\n",
        "imputer.fit(data_cat_encoded)\n",
        "imputer.statistics_\n",
        "# transform the dataset by replacing the missing values by the most frequent values\n",
        "data_cat_enc = imputer.transform(data_cat_encoded)\n",
        "data_cat_tr = pd.DataFrame(data_cat_enc, columns = data_cat.columns)\n",
        "data_cat_tr.describe()"
      ],
      "execution_count": null,
      "outputs": []
    },
    {
      "cell_type": "code",
      "metadata": {
        "id": "TOQfkfo5egDk"
      },
      "source": [
        "# Merge the numerical and categorical datasets\n",
        "data_tr = pd.concat([data_num_tr, data_cat_tr], axis=1)\n",
        "data_tr.describe()"
      ],
      "execution_count": null,
      "outputs": []
    },
    {
      "cell_type": "markdown",
      "metadata": {
        "id": "JAM3SjZjRWbS"
      },
      "source": [
        "### Data Visualization\n",
        "\n",
        "It's time to create some data visualizations!\n"
      ]
    },
    {
      "cell_type": "code",
      "metadata": {
        "id": "wulbE9pgRWbS"
      },
      "source": [
        "#Plot a histogram for each attribute\n",
        "\n",
        "#\"age\", \"bp\",\"sg\", \"al\", \"su\", \"bgr\", \"bu\", \"sc\", \"sod\", \"pot\", \"hemo\",\"pcv\", \"wbcc\", \n",
        "#\"rbcc\" \"rbc\",\"pc\",\"pcc\",\"ba\",\"htn\",\"dm\", \"cad\", \"appet\", \"pe\", \"ane\""
      ],
      "execution_count": null,
      "outputs": []
    },
    {
      "cell_type": "markdown",
      "metadata": {
        "id": "cvq_mI8UegDv"
      },
      "source": [
        "## PCA Visualization\n",
        "\n",
        "Since it is difficult to visualize high dimensional data, we can use PCA to find the first two principal components, and visualize the data in this new, two-dimensional space, with a single scatter-plot.  \n",
        "\n",
        "Before we do this though, we'll need to scale our data so that each feature has a single unit variance. (Step 1)"
      ]
    },
    {
      "cell_type": "code",
      "metadata": {
        "id": "PTJ8zfTpegDw"
      },
      "source": [
        "# Use StandardScaler"
      ],
      "execution_count": null,
      "outputs": []
    },
    {
      "cell_type": "markdown",
      "metadata": {
        "id": "6LyNt_7cfnzT"
      },
      "source": [
        "We will then instantiate a PCA object. The main parameters of this method is the max number of components which is equal to the numbers of variables in the data. "
      ]
    },
    {
      "cell_type": "code",
      "metadata": {
        "id": "yinJmteEegD1"
      },
      "source": [
        "# Use PCA\n",
        "\n"
      ],
      "execution_count": null,
      "outputs": []
    },
    {
      "cell_type": "markdown",
      "metadata": {
        "id": "P9rhEC4qRWb6"
      },
      "source": [
        "## Interpreting the components \n",
        "\n"
      ]
    },
    {
      "cell_type": "code",
      "metadata": {
        "id": "_d-KWKTPegEB"
      },
      "source": [
        "# Explained variance\n",
        "\n",
        "# Corrected variance values\n"
      ],
      "execution_count": null,
      "outputs": []
    },
    {
      "cell_type": "code",
      "metadata": {
        "id": "PmWJ-PM6egEF"
      },
      "source": [
        "# plot the explained variance of each component\n",
        "\n"
      ],
      "execution_count": null,
      "outputs": []
    },
    {
      "cell_type": "markdown",
      "metadata": {
        "id": "qNPawU-kRWcB"
      },
      "source": [
        "## Variable representation"
      ]
    },
    {
      "cell_type": "code",
      "metadata": {
        "id": "KpTYOpo3RWcB"
      },
      "source": [
        "**Compute the correlation between the principal components and the variables**"
      ],
      "execution_count": null,
      "outputs": []
    },
    {
      "cell_type": "code",
      "metadata": {
        "id": "VyVN383MegEQ"
      },
      "source": [
        "# Compute the correlation\n",
        "\n",
        "\n",
        "# Print the correlation matrix\n"
      ],
      "execution_count": null,
      "outputs": []
    },
    {
      "cell_type": "code",
      "metadata": {
        "id": "TZVt9bAoegEU"
      },
      "source": [
        "# Plot the correlation circle\n"
      ],
      "execution_count": null,
      "outputs": []
    }
  ]
}